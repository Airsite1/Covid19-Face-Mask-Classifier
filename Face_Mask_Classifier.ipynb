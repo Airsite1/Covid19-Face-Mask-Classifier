{
  "nbformat": 4,
  "nbformat_minor": 0,
  "metadata": {
    "colab": {
      "name": "Face Mask Classifier",
      "provenance": [],
      "collapsed_sections": []
    },
    "kernelspec": {
      "display_name": "Python 3",
      "language": "python",
      "name": "python3"
    },
    "language_info": {
      "codemirror_mode": {
        "name": "ipython",
        "version": 3
      },
      "file_extension": ".py",
      "mimetype": "text/x-python",
      "name": "python",
      "nbconvert_exporter": "python",
      "pygments_lexer": "ipython3",
      "version": "3.7.5rc1"
    }
  },
  "cells": [
    {
      "cell_type": "markdown",
      "metadata": {
        "colab_type": "text",
        "id": "rX8mhOLljYeM"
      },
      "source": [
        "##### Copyright 2019 The TensorFlow Authors.\n",
        "- *I* modified their horse vs. human classifier, making it work for my data and adding a callback function\n",
        "\n"
      ]
    },
    {
      "cell_type": "markdown",
      "metadata": {
        "id": "G44M5j4PF1yH",
        "colab_type": "text"
      },
      "source": [
        "# Mounting Google Drive/Importing Data\n",
        "\n"
      ]
    },
    {
      "cell_type": "code",
      "metadata": {
        "id": "ZIGyMjSDF0gY",
        "colab_type": "code",
        "colab": {}
      },
      "source": [
        "from google.colab import drive\n",
        "drive.mount('/content/drive', force_remount=True)\n",
        "root_dir = \"/content/drive/My Drive/\"\n",
        "base_dir = root_dir + 'Colab Notebooks/Covid19-Face-Mask-Classifier'"
      ],
      "execution_count": 0,
      "outputs": []
    },
    {
      "cell_type": "code",
      "metadata": {
        "id": "QqK_M0PfWM5u",
        "colab_type": "code",
        "colab": {}
      },
      "source": [
        ""
      ],
      "execution_count": 0,
      "outputs": []
    },
    {
      "cell_type": "code",
      "metadata": {
        "id": "1Km3ecyJgjLB",
        "colab_type": "code",
        "colab": {}
      },
      "source": [
        "!rm -r Covid19-Face-Mask-Classifier"
      ],
      "execution_count": 0,
      "outputs": []
    },
    {
      "cell_type": "code",
      "metadata": {
        "id": "_7PqZhUfS9-S",
        "colab_type": "code",
        "colab": {
          "base_uri": "https://localhost:8080/",
          "height": 34
        },
        "outputId": "defcc8fe-5af7-4ddd-afcf-ffd20a751975"
      },
      "source": [
        "!cd base_dir\n"
      ],
      "execution_count": 9,
      "outputs": [
        {
          "output_type": "stream",
          "text": [
            "/bin/bash: line 0: cd: base_dir: No such file or directory\n"
          ],
          "name": "stdout"
        }
      ]
    },
    {
      "cell_type": "code",
      "metadata": {
        "id": "AU_YVOuYbE_A",
        "colab_type": "code",
        "colab": {}
      },
      "source": [
        "!git clone https://github.com/Airsite1/Covid19-Face-Mask-Classifier.git"
      ],
      "execution_count": 0,
      "outputs": []
    },
    {
      "cell_type": "markdown",
      "metadata": {
        "id": "59y7S0h1Tang",
        "colab_type": "text"
      },
      "source": [
        "#do i even need this\n"
      ]
    },
    {
      "cell_type": "code",
      "metadata": {
        "colab_type": "code",
        "id": "PLy3pthUS0D2",
        "colab": {}
      },
      "source": [
        "import os\n",
        "import zipfile\n",
        "\n",
        "local_zip = base_dir + '/tmp.zip'\n",
        "zip_ref = zipfile.ZipFile(local_zip, 'r')\n",
        "zip_ref.extractall('/tmp/mask-or-nomask')\n",
        "local_zip = base_dir + '/tmp.zip'\n",
        "zip_ref = zipfile.ZipFile(local_zip, 'r')\n",
        "zip_ref.extractall('/tmp/validation-mask-or-nomask')\n",
        "zip_ref.close()"
      ],
      "execution_count": 0,
      "outputs": []
    },
    {
      "cell_type": "markdown",
      "metadata": {
        "colab_type": "text",
        "id": "o-qUPyfO7Qr8"
      },
      "source": [
        "The contents of the .zip are extracted to the base directory `/tmp/horse-or-human`, which in turn each contain `horses` and `humans` subdirectories.\n",
        "\n",
        "In short: The training set is the data that is used to tell the neural network model that 'this is what a horse looks like', 'this is what a human looks like' etc. \n",
        "\n",
        "One thing to pay attention to in this sample: We do not explicitly label the images as horses or humans. If you remember with the handwriting example earlier, we had labelled 'this is a 1', 'this is a 7' etc.  Later you'll see something called an ImageGenerator being used -- and this is coded to read images from subdirectories, and automatically label them from the name of that subdirectory. So, for example, you will have a 'training' directory containing a 'horses' directory and a 'humans' one. ImageGenerator will label the images appropriately for you, reducing a coding step. \n",
        "\n",
        "Let's define each of these directories:"
      ]
    },
    {
      "cell_type": "markdown",
      "metadata": {
        "id": "CbdRUqQ30-Lo",
        "colab_type": "text"
      },
      "source": [
        "# Haar Cascade Classifier Face Detection"
      ]
    },
    {
      "cell_type": "code",
      "metadata": {
        "id": "HqhngGDVWf6v",
        "colab_type": "code",
        "colab": {}
      },
      "source": [
        "from matplotlib import pyplot as plt\n",
        "image = io.imread(\"/content/drive/My Drive/Colab Notebooks/Covid19-Face-Mask-Classifier/tmp/mask-or-nomask/mask/download (7).jpg\")\n",
        "imgplot = plt.imshow(image)\n",
        "\n",
        "\n"
      ],
      "execution_count": 0,
      "outputs": []
    },
    {
      "cell_type": "code",
      "metadata": {
        "id": "LPDpMjZrcw-P",
        "colab_type": "code",
        "colab": {}
      },
      "source": [
        "import numpy as np\n",
        "import os\n",
        "import cv2\n",
        "from random import randint\n",
        "from matplotlib import pyplot as plt\n",
        "from skimage import io\n",
        "\n",
        "def face_rec(file, target_path, image_path):\n",
        "    face_classifier = cv2.CascadeClassifier(os.path.join(base_dir + '/haarcascade_frontalface_default.xml'))\n",
        "    eye_classifier = cv2.CascadeClassifier(os.path.join(base_dir + '/haarcascade_eye.xml'))\n",
        "   # image = cv2.imread(str(os.path.join(image_path,file))) \n",
        "    image = io.imread(str(os.path.join(image_path, file)))\n",
        "    gray = cv2.cvtColor(image , cv2.COLOR_BGR2GRAY)\n",
        "    faces = face_classifier.detectMultiScale(gray ,1.3 , 9) #location of different faces in file\n",
        "    if faces is ():\n",
        "      print(\"no face found\")\n",
        "\n",
        "    for (x , y , w , h) in faces:\n",
        "        roi_gray = gray[y:y+h  , x:x+w] #crop face out using indexing\n",
        "        roi_color = image[y:y+h , x:x+w] #crop face similarily\n",
        "        cv2.imwrite(os.path.join(target_path , str(randint(0, 1000)) + \".jpg\"), roi_color)\n",
        "\n",
        "directoryA = str(os.path.join(base_dir + \"/tmp/mask-or-nomask/no-mask\"))\n",
        "target_directoryA = str(os.path.join(base_dir + \"/tmp/mask-or-no-mask/nomask1\"))\n",
        "\n",
        "\n",
        "for file in os.listdir(directoryA):\n",
        "  face_rec(file, target_directoryA, directoryA)"
      ],
      "execution_count": 0,
      "outputs": []
    },
    {
      "cell_type": "markdown",
      "metadata": {
        "colab_type": "text",
        "id": "S41ZRocMpSDp"
      },
      "source": [
        "!ls \"/content/drive/My Drive/Colab Notebooks/Covid19-Face-Mask-Classifier/tmp/haarcascade_frontalface_default.xml\""
      ]
    },
    {
      "cell_type": "code",
      "metadata": {
        "id": "LRajaOpcwEBj",
        "colab_type": "code",
        "colab": {}
      },
      "source": [
        "# Importing the libraries\n",
        "import numpy as np\n",
        "import os\n",
        "import cv2\n",
        "from random import randint\n",
        "from matplotlib import pyplot as plt\n",
        "from skimage import io\n",
        "\n",
        "\n",
        "\n",
        "def face_rec(file, target_path, image_path):\n",
        "    face_classifier = cv2.CascadeClassifier(os.path.join(base_dir + '/haarcascade_frontalface_default.xml'))\n",
        "    eye_classifier = cv2.CascadeClassifier(os.path.join(base_dir + '/haarcascade_eye.xml'))\n",
        "   # image = cv2.imread(str(os.path.join(image_path,file))) \n",
        "    image = io.imread(str(os.path.join(image_path, file)))\n",
        "    gray = cv2.cvtColor(image , cv2.COLOR_BGR2GRAY)\n",
        "\n",
        "    faces = face_classifier.detectMultiScale(gray ,1.3 , 9) #location of different faces in file\n",
        "    if faces is ():\n",
        "     print(\"no face found\")\n",
        "    for (x , y , w , h) in faces:\n",
        "        roi_gray = gray[y:y+h  , x:x+w] #crop face out using indexing\n",
        "        roi_color = image[y:y+h , x:x+w] #crop face similarily\n",
        "        cv2.imwrite(os.path.join(target_path , str(randint(0, 1000)) + \".jpg\"), roi_color)\n",
        "\n",
        "directoryA = str(os.path.join(base_dir + \"/tmp/mask-or-nomask/mask\"))\n",
        "directoryB = str(os.path.join(base_dir + \"/tmp/mask-or-nomask/nomask\"))\n",
        "directoryC = str(os.path.join(base_dir + \"/tmp/validation-mask-or-nomask/mask\"))\n",
        "directoryD = str(os.path.join(base_dir + \"/tmp/validation-mask-or-nomask/mask\"))\n",
        "target_directoryA = str(os.path.join(base_dir + \"/tmp/mask-or-nomask/mask1\"))\n",
        "target_directoryA = str(os.path.join(base_dir + \"/tmp/mask-or-nomask/nomask1\"))\n",
        "target_directoryC = str(os.path.join(base_dir + \"/tmp/validation-mask-or-nomask/mask1\"))\n",
        "target_directoryD = str(os.path.join(base_dir + \"/tmp/validation-mask-or-nomask/nomask1\"))\n",
        "\n",
        "for file in os.listdir(directoryA):\n",
        "  face_rec(file, target_directoryA, directoryA)\n",
        "\n",
        "for file in os.listdir(directoryB):\n",
        "  face_rec(file, target_directoryB, directoryB)\n",
        "\n",
        "for file in os.listdir(directoryC):\n",
        "  face_rec(file, target_directoryC, directoryC)\n",
        "  \n",
        "for file in os.listdir(directoryD):\n",
        "  face_rec(file, target_directoryD, directoryD)\n",
        "\n",
        "  "
      ],
      "execution_count": 0,
      "outputs": []
    },
    {
      "cell_type": "code",
      "metadata": {
        "colab_type": "code",
        "id": "NR_M9nWN-K8B",
        "colab": {}
      },
      "source": [
        "# Directory with our training mask pictures\n",
        "train_mask_dir = str(os.path.join(base_dir + \"/tmp/mask-or-nomask/mask\"))\n",
        "\n",
        "# Directory with our training non-mask pictures\n",
        "train_nomask_dir = str(os.path.join(base_dir + \"/tmp/mask-or-nomask/no-mask\"))\n",
        "\n",
        "# Directory with our training mask pictures\n",
        "validation_mask_dir = str(os.path.join(base_dir + \"/tmp/validation-mask-or-nomask/mask\"))\n",
        "\n",
        "# Directory with our training non-mask pictures\n",
        "validation_nomask_dir = str(os.path.join(base_dir + \"/tmp/validation-mask-or-nomask/no-mask\"))"
      ],
      "execution_count": 0,
      "outputs": []
    },
    {
      "cell_type": "code",
      "metadata": {
        "id": "50vk6u1welW-",
        "colab_type": "code",
        "colab": {}
      },
      "source": [
        "train_mask_names = os.listdir(train_mask_dir)\n",
        "train_nomask_names = os.listdir(train_nomask_dir)\n",
        "\n",
        "validation_mask_hames = os.listdir(validation_mask_dir)\n",
        "validation_nomask_names = os.listdir(validation_nomask_dir)"
      ],
      "execution_count": 0,
      "outputs": []
    },
    {
      "cell_type": "markdown",
      "metadata": {
        "colab_type": "text",
        "id": "5oqBkNBJmtUv"
      },
      "source": [
        "Imports tensorflow"
      ]
    },
    {
      "cell_type": "code",
      "metadata": {
        "colab_type": "code",
        "id": "qvfZg3LQbD-5",
        "colab": {}
      },
      "source": [
        "import tensorflow as tf"
      ],
      "execution_count": 0,
      "outputs": []
    },
    {
      "cell_type": "markdown",
      "metadata": {
        "colab_type": "text",
        "id": "BnhYCP4tdqjC"
      },
      "source": [
        "We then add convolutional layers as in the previous example, and flatten the final result to feed into the densely connected layers."
      ]
    },
    {
      "cell_type": "markdown",
      "metadata": {
        "id": "GwPhQpgg1gLj",
        "colab_type": "text"
      },
      "source": [
        "# Callback Function that stops training once an certain accuracy is reached\n"
      ]
    },
    {
      "cell_type": "code",
      "metadata": {
        "id": "G5_4d-RR1mA3",
        "colab_type": "code",
        "colab": {}
      },
      "source": [
        "    DESIRED_ACCURACY = 0.95\n",
        "\n",
        "    class myCallback(tf.keras.callbacks.Callback):\n",
        "        def on_epoch_end(self, epoch, logs={}):\n",
        "            if(logs.get('accuracy')>=DESIRED_ACCURACY):\n",
        "              print(\"\\nReached 95% accuracy so cancelling training!\")\n",
        "              self.model.stop_training = True\n",
        "    callbacks = myCallback()\n"
      ],
      "execution_count": 0,
      "outputs": []
    },
    {
      "cell_type": "markdown",
      "metadata": {
        "id": "TZ5MyrmG1ai3",
        "colab_type": "text"
      },
      "source": [
        "# Creating the Model\n"
      ]
    },
    {
      "cell_type": "markdown",
      "metadata": {
        "colab_type": "text",
        "id": "gokG5HKpdtzm"
      },
      "source": [
        "Finally we add the densely connected layers. \n",
        "\n",
        "Note that because we are facing a two-class classification problem, i.e. a *binary classification problem*, we will end our network with a [*sigmoid* activation](https://wikipedia.org/wiki/Sigmoid_function), so that the output of our network will be a single scalar between 0 and 1, encoding the probability that the current image is class 1 (as opposed to class 0)."
      ]
    },
    {
      "cell_type": "code",
      "metadata": {
        "colab_type": "code",
        "id": "PixZ2s5QbYQ3",
        "colab": {}
      },
      "source": [
        "model = tf.keras.models.Sequential([\n",
        "    # Note the input shape is the desired size of the image 150x150 with 3 bytes color\n",
        "    # Layer 1\n",
        "    tf.keras.layers.Conv2D(16, (3,3), activation='relu', input_shape=(150, 150, 3)),\n",
        "    tf.keras.layers.MaxPooling2D(2, 2),\n",
        "  # Layer 2\n",
        "    tf.keras.layers.Conv2D(32, (3,3), activation='relu'),\n",
        "    tf.keras.layers.MaxPooling2D(2,2),\n",
        "  # Layer 3\n",
        "    tf.keras.layers.Conv2D(64, (3,3), activation='relu'),\n",
        "    tf.keras.layers.MaxPooling2D(2,2),\n",
        "  # Layer 4\n",
        "    #tf.keras.layers.Conv2D(64, (3,3), activation='relu'),\n",
        "    #tf.keras.layers.MaxPooling2D(2,2),\n",
        "  # Layer 5\n",
        "    #tf.keras.layers.Conv2D(64, (3,3), activation='relu'),\n",
        "    #tf.keras.layers.MaxPooling2D(2,2),\n",
        "    # Flatten the results to feed into a DNN\n",
        "    tf.keras.layers.Flatten(),\n",
        "    # 512 neuron hidden layer\n",
        "    tf.keras.layers.Dense(512, activation='relu'),\n",
        "    # Only 1 output neuron. It will contain a value from 0-1 where 0 for 1 class ('horses') and 1 for the other ('humans')\n",
        "    tf.keras.layers.Dense(1, activation='sigmoid')\n",
        "])"
      ],
      "execution_count": 0,
      "outputs": []
    },
    {
      "cell_type": "markdown",
      "metadata": {
        "colab_type": "text",
        "id": "PEkKSpZlvJXA"
      },
      "source": [
        "Next, we'll configure the specifications for model training. We will train our model with the `binary_crossentropy` loss, because it's a binary classification problem and our final activation is a sigmoid. (For a refresher on loss metrics, see the [Machine Learning Crash Course](https://developers.google.com/machine-learning/crash-course/descending-into-ml/video-lecture).) We will use the `rmsprop` optimizer with a learning rate of `0.001`. During training, we will want to monitor classification accuracy.\n",
        "\n",
        "**NOTE**: In this case, using the [RMSprop optimization algorithm](https://wikipedia.org/wiki/Stochastic_gradient_descent#RMSProp) is preferable to [stochastic gradient descent](https://developers.google.com/machine-learning/glossary/#SGD) (SGD), because RMSprop automates learning-rate tuning for us. (Other optimizers, such as [Adam](https://wikipedia.org/wiki/Stochastic_gradient_descent#Adam) and [Adagrad](https://developers.google.com/machine-learning/glossary/#AdaGrad), also automatically adapt the learning rate during training, and would work equally well here.)"
      ]
    },
    {
      "cell_type": "code",
      "metadata": {
        "colab_type": "code",
        "id": "8DHWhFP_uhq3",
        "colab": {}
      },
      "source": [
        "from tensorflow.keras.optimizers import RMSprop\n",
        "\n",
        "model.compile(loss='binary_crossentropy',\n",
        "              optimizer=RMSprop(lr=0.001),\n",
        "              metrics=['accuracy'])"
      ],
      "execution_count": 0,
      "outputs": []
    },
    {
      "cell_type": "markdown",
      "metadata": {
        "colab_type": "text",
        "id": "Sn9m9D3UimHM"
      },
      "source": [
        "### Data Preprocessing\n",
        "\n",
        "Let's set up data generators that will read pictures in our source folders, convert them to `float32` tensors, and feed them (with their labels) to our network. We'll have one generator for the training images and one for the validation images. Our generators will yield batches of images of size 300x300 and their labels (binary).\n",
        "\n",
        "As you may already know, data that goes into neural networks should usually be normalized in some way to make it more amenable to processing by the network. (It is uncommon to feed raw pixels into a convnet.) In our case, we will preprocess our images by normalizing the pixel values to be in the `[0, 1]` range (originally all values are in the `[0, 255]` range).\n",
        "\n",
        "In Keras this can be done via the `keras.preprocessing.image.ImageDataGenerator` class using the `rescale` parameter. This `ImageDataGenerator` class allows you to instantiate generators of augmented image batches (and their labels) via `.flow(data, labels)` or `.flow_from_directory(directory)`. These generators can then be used with the Keras model methods that accept data generators as inputs: `fit`, `evaluate_generator`, and `predict_generator`."
      ]
    },
    {
      "cell_type": "code",
      "metadata": {
        "colab_type": "code",
        "id": "ClebU9NJg99G",
        "colab": {}
      },
      "source": [
        "from tensorflow.keras.preprocessing.image import ImageDataGenerator\n",
        "\n",
        "# All images will be rescaled by 1./255\n",
        "train_datagen = ImageDataGenerator(rescale=1/255)\n",
        "validation_datagen = ImageDataGenerator(rescale=1/255)\n",
        "\n",
        "# Flow training images in batches of 128 using train_datagen generator\n",
        "train_generator = train_datagen.flow_from_directory( #208 images\n",
        "        '/content/drive/My Drive/Colab Notebooks/Covid19-Face-Mask-Classifier/tmp/mask-or-nomask/',  # This is the source directory for training images\n",
        "        target_size=(150, 150),  # All images will be resized to 150x150 DONT KNOW IF THIS IS GOOD\n",
        "        batch_size=26, #208/8 epochs\n",
        "        # Since we use binary_crossentropy loss, we need binary labels\n",
        "        class_mode='binary')\n",
        "\n",
        "# Flow training images in batches of 128 using train_datagen generator\n",
        "validation_generator = validation_datagen.flow_from_directory( #48 images\n",
        "        '/content/drive/My Drive/Colab Notebooks/Covid19-Face-Mask-Classifier/tmp/validation-mask-or-nomask/',  # This is the source directory for training images\n",
        "        target_size=(150, 150),  # All images will be resized to 150x150\n",
        "        batch_size=6, #48/8 epochs\n",
        "        # Since we use binary_crossentropy loss, we need binary labels\n",
        "        class_mode='binary')"
      ],
      "execution_count": 0,
      "outputs": []
    },
    {
      "cell_type": "markdown",
      "metadata": {
        "colab_type": "text",
        "id": "mu3Jdwkjwax4"
      },
      "source": [
        "### Training\n",
        "Let's train for 15 epochs -- this may take a few minutes to run.\n",
        "\n",
        "Do note the values per epoch.\n",
        "\n",
        "The Loss and Accuracy are a great indication of progress of training. It's making a guess as to the classification of the training data, and then measuring it against the known label, calculating the result. Accuracy is the portion of correct guesses. "
      ]
    },
    {
      "cell_type": "code",
      "metadata": {
        "colab_type": "code",
        "id": "Fb1_lgobv81m",
        "colab": {}
      },
      "source": [
        "history = model.fit(\n",
        "      train_generator,\n",
        "      steps_per_epoch=8,  \n",
        "      epochs=15,\n",
        "      validation_data = validation_generator,\n",
        "      validation_steps=8,\n",
        "      verbose=1,\n",
        "      callbacks= [callbacks])"
      ],
      "execution_count": 0,
      "outputs": []
    },
    {
      "cell_type": "markdown",
      "metadata": {
        "colab_type": "text",
        "id": "o6vSHzPR2ghH"
      },
      "source": [
        "### Running the Model\n",
        "\n",
        "Let's now take a look at actually running a prediction using the model. This code will allow you to choose 1 or more files from your file system, it will then upload them, and run them through the model, giving an indication of whether the person has a mask or doesn't."
      ]
    },
    {
      "cell_type": "code",
      "metadata": {
        "colab_type": "code",
        "id": "DoWp43WxJDNT",
        "colab": {}
      },
      "source": [
        "import numpy as np\n",
        "from google.colab import files\n",
        "from keras.preprocessing import image\n",
        "\n",
        "uploaded = files.upload()\n",
        "\n",
        "for fn in uploaded.keys():\n",
        " \n",
        "  # predicting images\n",
        "  path = '/content/' + fn\n",
        "  img = image.load_img(path, target_size=(150, 150))\n",
        "  x = image.img_to_array(img)\n",
        "  x = np.expand_dims(x, axis=0)\n",
        "\n",
        "  images = np.vstack([x])\n",
        "  classes = model.predict(images, batch_size=10)\n",
        "  print(classes[0])\n",
        "  if classes[0]>0.5:\n",
        "    print(fn + \" is a human\")\n",
        "  else:\n",
        "    print(fn + \" is a horse\")\n",
        " "
      ],
      "execution_count": 0,
      "outputs": []
    }
  ]
}